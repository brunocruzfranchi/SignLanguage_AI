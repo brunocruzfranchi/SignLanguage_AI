{
 "cells": [
  {
   "cell_type": "code",
   "execution_count": 1,
   "id": "4f9a5e23",
   "metadata": {},
   "outputs": [],
   "source": [
    "import cv2\n",
    "import numpy as np\n",
    "import pandas as pd\n",
    "import os\n",
    "from matplotlib import pyplot as plt\n",
    "import mediapipe as mp"
   ]
  },
  {
   "cell_type": "code",
   "execution_count": 2,
   "id": "29f34c22",
   "metadata": {},
   "outputs": [],
   "source": [
    "def mediapipe_detection(image, model):\n",
    "    \"\"\"\n",
    "    This function is able to receive an image to converted it to RGB spectrum.\n",
    "    Then the detection is made and finally the image is converted from RGB to BGR\n",
    "    :param image: frame to be use for detection\n",
    "    :param model: mediapipe holistic model used\n",
    "    :return: image and results\n",
    "    \"\"\"\n",
    "    image = cv2.cvtColor(image, cv2.COLOR_BGR2RGB)  # Color Conversion\n",
    "    image.flags.writeable = False  # Image is no longer writeable. This helps to save memory\n",
    "    results = model.process(image)  # Make prediction with model\n",
    "    image.flags.writeable = True  # Image is now writeable\n",
    "    image = cv2.cvtColor(image, cv2.COLOR_RGB2BGR)  # Color Conversion\n",
    "    return image, results"
   ]
  },
  {
   "cell_type": "code",
   "execution_count": 3,
   "id": "9580d9b6",
   "metadata": {},
   "outputs": [],
   "source": [
    "def draw_landmarks(image, results):\n",
    "    \"\"\"\n",
    "    This function is used to draw the landmarks of each detection\n",
    "    :param image:\n",
    "    :param results:\n",
    "    :return:\n",
    "    \"\"\"\n",
    "    mp.solutions.drawing_utils.draw_landmarks(image, results.left_hand_landmarks,\n",
    "                                              mp.solutions.holistic.HAND_CONNECTIONS)\n",
    "    mp.solutions.drawing_utils.draw_landmarks(image, results.right_hand_landmarks,\n",
    "                                              mp.solutions.holistic.HAND_CONNECTIONS)\n",
    "\n"
   ]
  },
  {
   "cell_type": "code",
   "execution_count": 59,
   "id": "f038c03e",
   "metadata": {},
   "outputs": [],
   "source": [
    "def draw_styled_landmarks_both_hands(image, results):\n",
    "    \"\"\"\n",
    "    This function is used to draw the landmarks of each detection with a certain style\n",
    "    :param image:\n",
    "    :param results: contains the spacial points from the model detection\n",
    "    :return:\n",
    "    \"\"\"\n",
    "    # Verify if there is any detection made by the model\n",
    "    if results.multi_hand_landmarks:\n",
    "        # For each hand detected, the landmarks are drawn\n",
    "        # In this case we are going to use just one hand\n",
    "        for hand_landmarks in results.multi_hand_landmarks:\n",
    "            mp.solutions.drawing_utils.draw_landmarks(\n",
    "                image,\n",
    "                hand_landmarks,\n",
    "                mp_hands.HAND_CONNECTIONS,\n",
    "                mp.solutions.drawing_styles.get_default_hand_landmarks_style(),\n",
    "                mp.solutions.drawing_styles.get_default_hand_connections_style())"
   ]
  },
  {
   "cell_type": "code",
   "execution_count": 60,
   "id": "b6cf97b7",
   "metadata": {},
   "outputs": [],
   "source": [
    "def draw_styled_landmarks_single_hand(image, results):\n",
    "    \"\"\"\n",
    "    This function is used to draw the landmarks of each detection with a certain style\n",
    "    :param image:\n",
    "    :param results: contains the spacial points from the model detection\n",
    "    :return:\n",
    "    \"\"\"\n",
    "    # Verify if there is any detection made by the model\n",
    "    if results.multi_hand_landmarks:\n",
    "        # For each hand detected, the landmarks are drawn\n",
    "        # In this case we are going to use just one hand\n",
    "        mp.solutions.drawing_utils.draw_landmarks(\n",
    "            image,\n",
    "            results.multi_hand_landmarks[0],\n",
    "            mp_hands.HAND_CONNECTIONS,\n",
    "            mp.solutions.drawing_styles.get_default_hand_landmarks_style(),\n",
    "            mp.solutions.drawing_styles.get_default_hand_connections_style())"
   ]
  },
  {
   "cell_type": "code",
   "execution_count": 65,
   "id": "1c746373",
   "metadata": {},
   "outputs": [],
   "source": [
    "def extract_keypoints_both_hands(results):\n",
    "    if results.multi_hand_landmarks:\n",
    "        # For each hand detected, the landmarks are drawn\n",
    "        for hand_landmarks in results.multi_hand_landmarks:\n",
    "            h = np.array([[res.x, res.y, res.z] for res in hand_landmarks.landmarks]).flatten() \\\n",
    "                if hand_landmarks else np.zeros((63,))\n"
   ]
  },
  {
   "cell_type": "code",
   "execution_count": 84,
   "id": "14b4a00b",
   "metadata": {},
   "outputs": [],
   "source": [
    "def extract_keypoints_single_hand(results):\n",
    "    if results.multi_hand_landmarks:\n",
    "        # For each hand detected, the landmarks are drawn\n",
    "        hand = np.array([[res.x, res.y, res.z] for res in results.multi_hand_landmarks[0].landmark]).flatten() if results.multi_hand_landmarks else np.zeros((63,))\n",
    "    else:\n",
    "        hand = np.zeros((63,))\n",
    "    return hand\n"
   ]
  },
  {
   "cell_type": "code",
   "execution_count": null,
   "id": "99d037c8",
   "metadata": {},
   "outputs": [],
   "source": [
    "# Mediapipe variables\n",
    "mp_hands = mp.solutions.hands  # Hands Model\n",
    "mp_drawing = mp.solutions.drawing_utils  # Drawing utilities\n",
    "\n",
    "# Access to my webcam\n",
    "cap = cv2.VideoCapture(0)\n",
    "with mp_hands.Hands(model_complexity=0,\n",
    "                    min_detection_confidence=0.5,\n",
    "                    min_tracking_confidence=0.5) as hands:\n",
    "    while cap.isOpened():\n",
    "        # Read Camera Feed\n",
    "        ret, frame = cap.read()\n",
    "\n",
    "        # Make detection\n",
    "        image, results = mediapipe_detection(frame, hands)\n",
    "        draw_styled_landmarks_single_hand(image, results)\n",
    "\n",
    "        print(len(extract_keypoints_single_hand(results)))\n",
    "        # Show to screen\n",
    "        cv2.imshow(\"Webcam Feed\", cv2.flip(image, 1))\n",
    "        # Break condition\n",
    "        if cv2.waitKey(10) & 0xFF == ord('c'):\n",
    "            break\n",
    "\n",
    "    cap.release()\n",
    "    cv2.destroyAllWindows()"
   ]
  },
  {
   "cell_type": "code",
   "execution_count": null,
   "id": "2f3c986e",
   "metadata": {},
   "outputs": [],
   "source": []
  },
  {
   "cell_type": "code",
   "execution_count": null,
   "id": "fce7e1f0",
   "metadata": {},
   "outputs": [],
   "source": []
  }
 ],
 "metadata": {
  "kernelspec": {
   "display_name": "Python 3.8 (tensorflow)",
   "language": "python",
   "name": "tensorflow"
  },
  "language_info": {
   "codemirror_mode": {
    "name": "ipython",
    "version": 3
   },
   "file_extension": ".py",
   "mimetype": "text/x-python",
   "name": "python",
   "nbconvert_exporter": "python",
   "pygments_lexer": "ipython3",
   "version": "3.8.12"
  }
 },
 "nbformat": 4,
 "nbformat_minor": 5
}
